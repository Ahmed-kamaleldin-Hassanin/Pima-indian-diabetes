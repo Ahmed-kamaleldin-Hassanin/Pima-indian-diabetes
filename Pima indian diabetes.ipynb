{
 "cells": [
  {
   "cell_type": "code",
   "execution_count": 1,
   "metadata": {},
   "outputs": [
    {
     "data": {
      "text/html": [
       "<div>\n",
       "<style scoped>\n",
       "    .dataframe tbody tr th:only-of-type {\n",
       "        vertical-align: middle;\n",
       "    }\n",
       "\n",
       "    .dataframe tbody tr th {\n",
       "        vertical-align: top;\n",
       "    }\n",
       "\n",
       "    .dataframe thead th {\n",
       "        text-align: right;\n",
       "    }\n",
       "</style>\n",
       "<table border=\"1\" class=\"dataframe\">\n",
       "  <thead>\n",
       "    <tr style=\"text-align: right;\">\n",
       "      <th></th>\n",
       "      <th>Pregnancies</th>\n",
       "      <th>Glucose</th>\n",
       "      <th>BloodPressure</th>\n",
       "      <th>SkinThickness</th>\n",
       "      <th>Insulin</th>\n",
       "      <th>BMI</th>\n",
       "      <th>DiabetesPedigreeFunction</th>\n",
       "      <th>Age</th>\n",
       "      <th>Outcome</th>\n",
       "    </tr>\n",
       "  </thead>\n",
       "  <tbody>\n",
       "    <tr>\n",
       "      <th>0</th>\n",
       "      <td>6</td>\n",
       "      <td>148</td>\n",
       "      <td>72</td>\n",
       "      <td>35</td>\n",
       "      <td>0</td>\n",
       "      <td>33.6</td>\n",
       "      <td>0.627</td>\n",
       "      <td>50</td>\n",
       "      <td>1</td>\n",
       "    </tr>\n",
       "    <tr>\n",
       "      <th>1</th>\n",
       "      <td>1</td>\n",
       "      <td>85</td>\n",
       "      <td>66</td>\n",
       "      <td>29</td>\n",
       "      <td>0</td>\n",
       "      <td>26.6</td>\n",
       "      <td>0.351</td>\n",
       "      <td>31</td>\n",
       "      <td>0</td>\n",
       "    </tr>\n",
       "    <tr>\n",
       "      <th>2</th>\n",
       "      <td>8</td>\n",
       "      <td>183</td>\n",
       "      <td>64</td>\n",
       "      <td>0</td>\n",
       "      <td>0</td>\n",
       "      <td>23.3</td>\n",
       "      <td>0.672</td>\n",
       "      <td>32</td>\n",
       "      <td>1</td>\n",
       "    </tr>\n",
       "    <tr>\n",
       "      <th>3</th>\n",
       "      <td>1</td>\n",
       "      <td>89</td>\n",
       "      <td>66</td>\n",
       "      <td>23</td>\n",
       "      <td>94</td>\n",
       "      <td>28.1</td>\n",
       "      <td>0.167</td>\n",
       "      <td>21</td>\n",
       "      <td>0</td>\n",
       "    </tr>\n",
       "    <tr>\n",
       "      <th>4</th>\n",
       "      <td>0</td>\n",
       "      <td>137</td>\n",
       "      <td>40</td>\n",
       "      <td>35</td>\n",
       "      <td>168</td>\n",
       "      <td>43.1</td>\n",
       "      <td>2.288</td>\n",
       "      <td>33</td>\n",
       "      <td>1</td>\n",
       "    </tr>\n",
       "  </tbody>\n",
       "</table>\n",
       "</div>"
      ],
      "text/plain": [
       "   Pregnancies  Glucose  BloodPressure  SkinThickness  Insulin   BMI  \\\n",
       "0            6      148             72             35        0  33.6   \n",
       "1            1       85             66             29        0  26.6   \n",
       "2            8      183             64              0        0  23.3   \n",
       "3            1       89             66             23       94  28.1   \n",
       "4            0      137             40             35      168  43.1   \n",
       "\n",
       "   DiabetesPedigreeFunction  Age  Outcome  \n",
       "0                     0.627   50        1  \n",
       "1                     0.351   31        0  \n",
       "2                     0.672   32        1  \n",
       "3                     0.167   21        0  \n",
       "4                     2.288   33        1  "
      ]
     },
     "execution_count": 1,
     "metadata": {},
     "output_type": "execute_result"
    }
   ],
   "source": [
    "import numpy as np # linear algebra\n",
    "import pandas as pd # data processing, CSV file I/O (e.g. pd.read_csv)\n",
    "import matplotlib.pyplot as plt\n",
    "import seaborn as sns\n",
    "from plotly import tools\n",
    "import plotly.plotly as py\n",
    "\n",
    "df = pd.read_csv('diabetes.csv')\n",
    "df.head()"
   ]
  },
  {
   "cell_type": "code",
   "execution_count": 219,
   "metadata": {},
   "outputs": [
    {
     "data": {
      "text/plain": [
       "Pregnancies                 0\n",
       "Glucose                     0\n",
       "BloodPressure               0\n",
       "SkinThickness               0\n",
       "Insulin                     0\n",
       "BMI                         0\n",
       "DiabetesPedigreeFunction    0\n",
       "Age                         0\n",
       "Outcome                     0\n",
       "dtype: int64"
      ]
     },
     "execution_count": 219,
     "metadata": {},
     "output_type": "execute_result"
    }
   ],
   "source": [
    "df.isnull().sum()"
   ]
  },
  {
   "cell_type": "code",
   "execution_count": 5,
   "metadata": {},
   "outputs": [
    {
     "data": {
      "text/plain": [
       "array([[<matplotlib.axes._subplots.AxesSubplot object at 0x0000023653812358>,\n",
       "        <matplotlib.axes._subplots.AxesSubplot object at 0x0000023653D9D7B8>,\n",
       "        <matplotlib.axes._subplots.AxesSubplot object at 0x0000023653DB9C88>],\n",
       "       [<matplotlib.axes._subplots.AxesSubplot object at 0x000002365388B240>,\n",
       "        <matplotlib.axes._subplots.AxesSubplot object at 0x00000236538B27B8>,\n",
       "        <matplotlib.axes._subplots.AxesSubplot object at 0x00000236538D9D30>],\n",
       "       [<matplotlib.axes._subplots.AxesSubplot object at 0x000002365390A2E8>,\n",
       "        <matplotlib.axes._subplots.AxesSubplot object at 0x0000023653933898>,\n",
       "        <matplotlib.axes._subplots.AxesSubplot object at 0x00000236539338D0>]],\n",
       "      dtype=object)"
      ]
     },
     "execution_count": 5,
     "metadata": {},
     "output_type": "execute_result"
    },
    {
     "data": {
      "image/png": "[encoded data removed]",
      "text/plain": [
       "<Figure size 1080x1296 with 9 Axes>"
      ]
     },
     "metadata": {
      "needs_background": "light"
     },
     "output_type": "display_data"
    }
   ],
   "source": [
    "df.hist(figsize=(15,18))"
   ]
  },
  {
   "cell_type": "code",
   "execution_count": 228,
   "metadata": {},
   "outputs": [],
   "source": [
    "from sklearn.model_selection import train_test_split\n",
    "from sklearn.linear_model import LogisticRegression\n",
    "from sklearn.tree import DecisionTreeClassifier\n",
    "from sklearn.metrics import mean_absolute_error\n",
    "from sklearn.metrics         import accuracy_score\n",
    "#max_depth\n",
    "X = df.iloc[:, :-1]\n",
    "y = df.iloc[:, -1]\n",
    "\n",
    "X_train, X_test, y_train, y_test = train_test_split(X, y, test_size=0.25, random_state=0)"
   ]
  },
  {
   "cell_type": "code",
   "execution_count": 231,
   "metadata": {},
   "outputs": [],
   "source": [
    "def get_mae(max_depth, X_train, X_test, y_train, y_test):   \n",
    "    DT = DecisionTreeClassifier(max_leaf_nodes=max_depth,min_samples_split=19,random_state=9)\n",
    "\n",
    "    #fiting the model\n",
    "    DT.fit(X_train, y_train)\n",
    "\n",
    "    #prediction\n",
    "    y_pred = DT.predict(X_test)\n",
    "    mae = mean_absolute_error(y_test, y_pred)\n",
    "    accuracy = accuracy_score(y_test, y_pred)\n",
    "\n",
    "    #Accuracy\n",
    "    return (DT.score(X_test, y_test)*100,mae,accuracy)"
   ]
  },
  {
   "cell_type": "code",
   "execution_count": 232,
   "metadata": {},
   "outputs": [
    {
     "name": "stdout",
     "output_type": "stream",
     "text": [
      "Max_depth: 5  \t\t Accuracy:  75.000000 \t Mean Absolute error:  0.250000 \t Accuracy score:  0.750000\n",
      "Max_depth: 15  \t\t Accuracy:  77.083333 \t Mean Absolute error:  0.229167 \t Accuracy score:  0.770833\n",
      "Max_depth: 20  \t\t Accuracy:  77.083333 \t Mean Absolute error:  0.229167 \t Accuracy score:  0.770833\n",
      "Max_depth: 25  \t\t Accuracy:  77.604167 \t Mean Absolute error:  0.223958 \t Accuracy score:  0.776042\n",
      "Max_depth: 50  \t\t Accuracy:  79.166667 \t Mean Absolute error:  0.208333 \t Accuracy score:  0.791667\n",
      "Max_depth: 500  \t\t Accuracy:  79.166667 \t Mean Absolute error:  0.208333 \t Accuracy score:  0.791667\n"
     ]
    }
   ],
   "source": [
    "for max_leaf_nodes in [5,15,20,25,50, 500]:\n",
    "    my_mae,mae,accuracy = get_mae(max_leaf_nodes, X_train, X_test, y_train, y_test)\n",
    "    print(\"Max_depth: %d  \\t\\t Accuracy:  %f \\t Mean Absolute error:  %f \\t Accuracy score:  %f\" %(max_leaf_nodes, my_mae,mae,accuracy))"
   ]
  },
  {
   "cell_type": "code",
   "execution_count": 233,
   "metadata": {},
   "outputs": [],
   "source": [
    "from sklearn.ensemble import RandomForestClassifier\n",
    "def get_maeR(max_depth, X_train, X_test, y_train, y_test):   \n",
    "    DT = RandomForestClassifier(max_leaf_nodes=max_depth,min_samples_split=18,random_state=1)\n",
    "\n",
    "    #fiting the model\n",
    "    DT.fit(X_train, y_train)\n",
    "\n",
    "    #prediction\n",
    "    y_pred = DT.predict(X_test)\n",
    "    mae = mean_absolute_error(y_test, y_pred)\n",
    "    accuracy = accuracy_score(y_test, y_pred)\n",
    "\n",
    "    #Accuracy\n",
    "    return (DT.score(X_test, y_test)*100,mae,accuracy)"
   ]
  },
  {
   "cell_type": "code",
   "execution_count": 234,
   "metadata": {},
   "outputs": [
    {
     "name": "stdout",
     "output_type": "stream",
     "text": [
      "Max_depth: 5  \t\t Accuracy:  75.000000 \t Mean Absolute error:  0.250000 \t Accuracy score:  0.750000\n",
      "Max_depth: 15  \t\t Accuracy:  76.562500 \t Mean Absolute error:  0.234375 \t Accuracy score:  0.765625\n",
      "Max_depth: 20  \t\t Accuracy:  78.645833 \t Mean Absolute error:  0.213542 \t Accuracy score:  0.786458\n",
      "Max_depth: 25  \t\t Accuracy:  78.125000 \t Mean Absolute error:  0.218750 \t Accuracy score:  0.781250\n",
      "Max_depth: 30  \t\t Accuracy:  79.166667 \t Mean Absolute error:  0.208333 \t Accuracy score:  0.791667\n",
      "Max_depth: 50  \t\t Accuracy:  80.208333 \t Mean Absolute error:  0.197917 \t Accuracy score:  0.802083\n",
      "Max_depth: 500  \t\t Accuracy:  80.208333 \t Mean Absolute error:  0.197917 \t Accuracy score:  0.802083\n"
     ]
    },
    {
     "name": "stderr",
     "output_type": "stream",
     "text": [
      "C:\\Users\\Ahmed-kamaleldin\\AppData\\Local\\conda\\conda\\envs\\py36\\lib\\site-packages\\sklearn\\ensemble\\forest.py:246: FutureWarning:\n",
      "\n",
      "The default value of n_estimators will change from 10 in version 0.20 to 100 in 0.22.\n",
      "\n",
      "C:\\Users\\Ahmed-kamaleldin\\AppData\\Local\\conda\\conda\\envs\\py36\\lib\\site-packages\\sklearn\\ensemble\\forest.py:246: FutureWarning:\n",
      "\n",
      "The default value of n_estimators will change from 10 in version 0.20 to 100 in 0.22.\n",
      "\n",
      "C:\\Users\\Ahmed-kamaleldin\\AppData\\Local\\conda\\conda\\envs\\py36\\lib\\site-packages\\sklearn\\ensemble\\forest.py:246: FutureWarning:\n",
      "\n",
      "The default value of n_estimators will change from 10 in version 0.20 to 100 in 0.22.\n",
      "\n",
      "C:\\Users\\Ahmed-kamaleldin\\AppData\\Local\\conda\\conda\\envs\\py36\\lib\\site-packages\\sklearn\\ensemble\\forest.py:246: FutureWarning:\n",
      "\n",
      "The default value of n_estimators will change from 10 in version 0.20 to 100 in 0.22.\n",
      "\n",
      "C:\\Users\\Ahmed-kamaleldin\\AppData\\Local\\conda\\conda\\envs\\py36\\lib\\site-packages\\sklearn\\ensemble\\forest.py:246: FutureWarning:\n",
      "\n",
      "The default value of n_estimators will change from 10 in version 0.20 to 100 in 0.22.\n",
      "\n",
      "C:\\Users\\Ahmed-kamaleldin\\AppData\\Local\\conda\\conda\\envs\\py36\\lib\\site-packages\\sklearn\\ensemble\\forest.py:246: FutureWarning:\n",
      "\n",
      "The default value of n_estimators will change from 10 in version 0.20 to 100 in 0.22.\n",
      "\n",
      "C:\\Users\\Ahmed-kamaleldin\\AppData\\Local\\conda\\conda\\envs\\py36\\lib\\site-packages\\sklearn\\ensemble\\forest.py:246: FutureWarning:\n",
      "\n",
      "The default value of n_estimators will change from 10 in version 0.20 to 100 in 0.22.\n",
      "\n"
     ]
    }
   ],
   "source": [
    "for max_leaf_nodes in [5,15,20,25,30, 50,500]:\n",
    "    my_mae,mae,accuracy = get_maeR(max_leaf_nodes, X_train, X_test, y_train, y_test)\n",
    "    print(\"Max_depth: %d  \\t\\t Accuracy:  %f \\t Mean Absolute error:  %f \\t Accuracy score:  %f\" %(max_leaf_nodes, my_mae,mae,accuracy))"
   ]
  }
 ],
 "metadata": {
  "kernelspec": {
   "display_name": "Python 3",
   "language": "python",
   "name": "python3"
  },
  "language_info": {
   "codemirror_mode": {
    "name": "ipython",
    "version": 3
   },
   "file_extension": ".py",
   "mimetype": "text/x-python",
   "name": "python",
   "nbconvert_exporter": "python",
   "pygments_lexer": "ipython3",
   "version": "3.6.8"
  }
 },
 "nbformat": 4,
 "nbformat_minor": 2
}
